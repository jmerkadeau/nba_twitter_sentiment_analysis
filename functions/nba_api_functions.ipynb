{
 "cells": [
  {
   "cell_type": "code",
   "execution_count": null,
   "id": "0db6e5ae",
   "metadata": {},
   "outputs": [],
   "source": [
    "from nba_api.stats.static import teams\n",
    "\n",
    "def getAllNBATeams():\n",
    "    nba_teams = teams.get_teams()"
   ]
  },
  {
   "cell_type": "code",
   "execution_count": null,
   "id": "a9e70333",
   "metadata": {},
   "outputs": [],
   "source": [
    "\n",
    "\n",
    "def getTeamGames(fullTeamName = \"Golden State Warriors\"):\n",
    "    \n",
    "    teamInfo = [team for team in nba_teams if team['full_name'] == fullTeamName][0]\n",
    "\n",
    "    gamefinder = leaguegamefinder.LeagueGameFinder(team_id_nullable=teamInfo['id'])\n",
    "    games = gamefinder.get_data_frames()[0]\n",
    "    return(games)"
   ]
  }
 ],
 "metadata": {
  "kernelspec": {
   "display_name": "Python 3",
   "language": "python",
   "name": "python3"
  },
  "language_info": {
   "codemirror_mode": {
    "name": "ipython",
    "version": 3
   },
   "file_extension": ".py",
   "mimetype": "text/x-python",
   "name": "python",
   "nbconvert_exporter": "python",
   "pygments_lexer": "ipython3",
   "version": "3.8.8"
  }
 },
 "nbformat": 4,
 "nbformat_minor": 5
}
